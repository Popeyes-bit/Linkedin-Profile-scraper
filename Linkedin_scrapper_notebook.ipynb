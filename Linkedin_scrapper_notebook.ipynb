{
 "cells": [
  {
   "cell_type": "code",
   "execution_count": null,
   "metadata": {},
   "outputs": [],
   "source": [
    "import os,random,sys,time\n",
    "from selenium import webdriver\n",
    "from bs4 import BeautifulSoup\n",
    "from selenium.webdriver.common.desired_capabilities import DesiredCapabilities"
   ]
  },
  {
   "cell_type": "code",
   "execution_count": null,
   "metadata": {},
   "outputs": [],
   "source": [
    "browser= webdriver.Chrome('chromedriver.exe')"
   ]
  },
  {
   "cell_type": "code",
   "execution_count": null,
   "metadata": {},
   "outputs": [],
   "source": [
    "\n",
    "browser.get('https://www.linkedin.com/uas/login')"
   ]
  },
  {
   "cell_type": "code",
   "execution_count": null,
   "metadata": {},
   "outputs": [],
   "source": [
    "\n",
    "credfiles= open('credentials.txt')\n",
    "lines=credfiles.readlines()\n",
    "username=lines[0]\n",
    "password=lines[1]\n",
    "elementID= browser.find_element_by_id('username')\n",
    "elementID.send_keys(username)\n",
    "elementID= browser.find_element_by_id('password')\n",
    "elementID.send_keys(password)\n"
   ]
  },
  {
   "cell_type": "code",
   "execution_count": null,
   "metadata": {},
   "outputs": [],
   "source": [
    "elementID.submit()"
   ]
  },
  {
   "cell_type": "code",
   "execution_count": null,
   "metadata": {},
   "outputs": [],
   "source": [
    "#by now you should be inside linkedin"
   ]
  },
  {
   "cell_type": "code",
   "execution_count": null,
   "metadata": {},
   "outputs": [],
   "source": [
    "visitingProfileID='/in/anshul-soni-8064ab84/'\n",
    "fullLink='https://linkedin.com'+visitingProfileID\n",
    "browser.get(fullLink)"
   ]
  },
  {
   "cell_type": "code",
   "execution_count": null,
   "metadata": {},
   "outputs": [],
   "source": [
    "src=browser.page_source\n",
    "soup=BeautifulSoup(src,'lxml')"
   ]
  },
  {
   "cell_type": "code",
   "execution_count": null,
   "metadata": {},
   "outputs": [],
   "source": [
    "name_dir= soup.find('div',{'class':'flex-1 mr5'})\n"
   ]
  },
  {
   "cell_type": "code",
   "execution_count": null,
   "metadata": {},
   "outputs": [],
   "source": [
    "name_loc=name_dir.find_all('ul')\n",
    "\n",
    "name=name_loc[0].find('li').get_text().strip()\n",
    "name"
   ]
  },
  {
   "cell_type": "code",
   "execution_count": null,
   "metadata": {},
   "outputs": [],
   "source": [
    "address= name_loc[1].find('li').get_text().strip()\n",
    "address"
   ]
  },
  {
   "cell_type": "code",
   "execution_count": null,
   "metadata": {},
   "outputs": [],
   "source": [
    "Title=name_dir.find('h2').get_text().strip()\n",
    "Title"
   ]
  },
  {
   "cell_type": "code",
   "execution_count": null,
   "metadata": {},
   "outputs": [],
   "source": [
    "try:\n",
    "    num_conxn=(name_dir.find('span',{'class':'t-16 t-black t-normal'}))\n",
    "    num_conxn=num_conxn.get_text().strip()\n",
    "    \n",
    "except:\n",
    "    num_conxn=(name_dir.find('span',{'class':'t-16 t-bold link-without-visited-state'}))\n",
    "    num_conxn=num_conxn.get_text().strip()\n",
    "    \n",
    "num_conxn"
   ]
  },
  {
   "cell_type": "code",
   "execution_count": null,
   "metadata": {},
   "outputs": [],
   "source": [
    "#about= soup.find('div',{'class':'pv-oc ember-view'})\n"
   ]
  },
  {
   "cell_type": "code",
   "execution_count": null,
   "metadata": {},
   "outputs": [],
   "source": [
    "#t=about.find_all('p',{'class':'pv-about__summary-text mt4 t-14 ember-view'})\n"
   ]
  },
  {
   "cell_type": "code",
   "execution_count": null,
   "metadata": {},
   "outputs": [],
   "source": [
    "## Experience"
   ]
  },
  {
   "cell_type": "code",
   "execution_count": null,
   "metadata": {},
   "outputs": [],
   "source": [
    "Exp= soup.find('section',{'class':'pv-profile-section pv-profile-section--reorder-enabled background-section artdeco-container-card artdeco-card ember-view'})\n",
    "#Exp= soup.find('a',{'data-control-name':'background_details_company'})\n"
   ]
  },
  {
   "cell_type": "code",
   "execution_count": null,
   "metadata": {},
   "outputs": [],
   "source": [
    "\n",
    "\n",
    "\n",
    "Last_Working_Post=Exp.find('h3',{'class':'t-16 t-black t-bold'}).get_text().strip()\n",
    "Post=Last_Working_Post\n",
    "\n"
   ]
  },
  {
   "cell_type": "code",
   "execution_count": null,
   "metadata": {},
   "outputs": [],
   "source": [
    "Last_Working_Dates=Exp.find('h4',{'class':'pv-entity__date-range t-14 t-black--light t-normal'})\n",
    "Dates=Last_Working_Dates.get_text().strip()"
   ]
  },
  {
   "cell_type": "code",
   "execution_count": null,
   "metadata": {},
   "outputs": [],
   "source": [
    "Last_Working_Place=Exp.find('p',{'class':'pv-entity__secondary-title t-14 t-black t-normal'})\n",
    "Place=Last_Working_Place.get_text().strip()"
   ]
  },
  {
   "cell_type": "code",
   "execution_count": null,
   "metadata": {},
   "outputs": [],
   "source": [
    "Last_Work=[]\n",
    "Last_Work.append(Post)\n",
    "Last_Work.append(Place)\n",
    "Last_Work.append(Dates)"
   ]
  },
  {
   "cell_type": "code",
   "execution_count": null,
   "metadata": {},
   "outputs": [],
   "source": [
    "info=[]\n",
    "info.append(Last_Work)\n",
    "info.append(Title)\n",
    "info.append(name)\n",
    "info.append(num_conxn)\n",
    "info.append(address)\n",
    "info.append(fullLink)\n",
    "info"
   ]
  },
  {
   "cell_type": "code",
   "execution_count": null,
   "metadata": {},
   "outputs": [],
   "source": [
    "Education=soup.find('div',{'class':'pv-entity__degree-info'})"
   ]
  },
  {
   "cell_type": "code",
   "execution_count": null,
   "metadata": {},
   "outputs": [],
   "source": []
  },
  {
   "cell_type": "code",
   "execution_count": null,
   "metadata": {},
   "outputs": [],
   "source": [
    "Institution=Education.find('h3',{'class':'pv-entity__school-name t-16 t-black t-bold'}).get_text().strip()\n",
    "Institution"
   ]
  },
  {
   "cell_type": "code",
   "execution_count": null,
   "metadata": {},
   "outputs": [],
   "source": [
    "Degree=Education.find('span',{'class':'pv-entity__comma-item'}).get_text().strip()\n",
    "Degree"
   ]
  },
  {
   "cell_type": "code",
   "execution_count": null,
   "metadata": {},
   "outputs": [],
   "source": [
    "\n",
    "Branc=Education.find('p',{'class':'pv-entity__secondary-title pv-entity__fos t-14 t-black t-normal'})\n",
    "Branch=Branc.find('span',{'class':'pv-entity__comma-item'}).get_text().strip()\n",
    "Branch\n",
    "\n"
   ]
  },
  {
   "cell_type": "code",
   "execution_count": null,
   "metadata": {},
   "outputs": [],
   "source": [
    "LastEduIns=[]\n",
    "LastEduIns.append(Institution)\n",
    "LastEduIns.append(Degree)\n",
    "LastEduIns.append(Branch)\n",
    "LastEduIns"
   ]
  },
  {
   "cell_type": "code",
   "execution_count": null,
   "metadata": {},
   "outputs": [],
   "source": [
    "info.append(LastEduIns)\n",
    "info"
   ]
  },
  {
   "cell_type": "code",
   "execution_count": null,
   "metadata": {},
   "outputs": [],
   "source": []
  },
  {
   "cell_type": "code",
   "execution_count": null,
   "metadata": {},
   "outputs": [],
   "source": []
  }
 ],
 "metadata": {
  "kernelspec": {
   "display_name": "Python 3",
   "language": "python",
   "name": "python3"
  },
  "language_info": {
   "codemirror_mode": {
    "name": "ipython",
    "version": 3
   },
   "file_extension": ".py",
   "mimetype": "text/x-python",
   "name": "python",
   "nbconvert_exporter": "python",
   "pygments_lexer": "ipython3",
   "version": "3.7.4"
  }
 },
 "nbformat": 4,
 "nbformat_minor": 2
}
