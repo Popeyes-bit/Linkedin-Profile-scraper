{
 "cells": [
  {
   "cell_type": "code",
   "execution_count": 1,
   "metadata": {},
   "outputs": [],
   "source": [
    "import os,random,sys,time\n",
    "from selenium import webdriver\n",
    "from bs4 import BeautifulSoup\n",
    "from selenium.webdriver.common.desired_capabilities import DesiredCapabilities"
   ]
  },
  {
   "cell_type": "code",
   "execution_count": 2,
   "metadata": {},
   "outputs": [],
   "source": [
    "browser= webdriver.Chrome('chromedriver.exe')"
   ]
  },
  {
   "cell_type": "code",
   "execution_count": 3,
   "metadata": {},
   "outputs": [],
   "source": [
    "\n",
    "browser.get('https://www.linkedin.com/uas/login')"
   ]
  },
  {
   "cell_type": "code",
   "execution_count": 4,
   "metadata": {},
   "outputs": [],
   "source": [
    "\n",
    "credfiles= open('credentials.txt')\n",
    "lines=credfiles.readlines()\n",
    "username=lines[0]\n",
    "password=lines[1]\n",
    "elementID= browser.find_element_by_id('username')\n",
    "elementID.send_keys(username)\n",
    "elementID= browser.find_element_by_id('password')\n",
    "elementID.send_keys(password)\n"
   ]
  },
  {
   "cell_type": "code",
   "execution_count": 5,
   "metadata": {},
   "outputs": [],
   "source": [
    "elementID.submit()"
   ]
  },
  {
   "cell_type": "code",
   "execution_count": 6,
   "metadata": {},
   "outputs": [],
   "source": [
    "#by now you should be inside linkedin"
   ]
  },
  {
   "cell_type": "code",
   "execution_count": 7,
   "metadata": {},
   "outputs": [],
   "source": [
    "visitingProfileID='/in/anshul-soni-8064ab84/'\n",
    "fullLink='https://linkedin.com'+visitingProfileID\n",
    "browser.get(fullLink)"
   ]
  },
  {
   "cell_type": "code",
   "execution_count": 8,
   "metadata": {},
   "outputs": [],
   "source": [
    "src=browser.page_source\n",
    "soup=BeautifulSoup(src,'lxml')"
   ]
  },
  {
   "cell_type": "code",
   "execution_count": 9,
   "metadata": {},
   "outputs": [],
   "source": [
    "name_dir= soup.find('div',{'class':'flex-1 mr5'})\n"
   ]
  },
  {
   "cell_type": "code",
   "execution_count": 10,
   "metadata": {},
   "outputs": [
    {
     "data": {
      "text/plain": [
       "'Anshul Soni'"
      ]
     },
     "execution_count": 10,
     "metadata": {},
     "output_type": "execute_result"
    }
   ],
   "source": [
    "name_loc=name_dir.find_all('ul')\n",
    "\n",
    "name=name_loc[0].find('li').get_text().strip()\n",
    "name"
   ]
  },
  {
   "cell_type": "code",
   "execution_count": 11,
   "metadata": {},
   "outputs": [
    {
     "data": {
      "text/plain": [
       "'Delhi, India'"
      ]
     },
     "execution_count": 11,
     "metadata": {},
     "output_type": "execute_result"
    }
   ],
   "source": [
    "address= name_loc[1].find('li').get_text().strip()\n",
    "address"
   ]
  },
  {
   "cell_type": "code",
   "execution_count": 12,
   "metadata": {},
   "outputs": [
    {
     "data": {
      "text/plain": [
       "'XLRI | IIT Delhi | E-commerce'"
      ]
     },
     "execution_count": 12,
     "metadata": {},
     "output_type": "execute_result"
    }
   ],
   "source": [
    "Title=name_dir.find('h2').get_text().strip()\n",
    "Title"
   ]
  },
  {
   "cell_type": "code",
   "execution_count": 13,
   "metadata": {},
   "outputs": [
    {
     "data": {
      "text/plain": [
       "'500+ connections'"
      ]
     },
     "execution_count": 13,
     "metadata": {},
     "output_type": "execute_result"
    }
   ],
   "source": [
    "try:\n",
    "    num_conxn=(name_dir.find('span',{'class':'t-16 t-black t-normal'}))\n",
    "    num_conxn=num_conxn.get_text().strip()\n",
    "    \n",
    "except:\n",
    "    num_conxn=(name_dir.find('span',{'class':'t-16 t-bold link-without-visited-state'}))\n",
    "    num_conxn=num_conxn.get_text().strip()\n",
    "    \n",
    "num_conxn"
   ]
  },
  {
   "cell_type": "code",
   "execution_count": 14,
   "metadata": {},
   "outputs": [],
   "source": [
    "#about= soup.find('div',{'class':'pv-oc ember-view'})\n"
   ]
  },
  {
   "cell_type": "code",
   "execution_count": 15,
   "metadata": {},
   "outputs": [],
   "source": [
    "#t=about.find_all('p',{'class':'pv-about__summary-text mt4 t-14 ember-view'})\n"
   ]
  },
  {
   "cell_type": "code",
   "execution_count": 16,
   "metadata": {},
   "outputs": [],
   "source": [
    "## Experience"
   ]
  },
  {
   "cell_type": "code",
   "execution_count": 17,
   "metadata": {},
   "outputs": [
    {
     "data": {
      "text/plain": [
       "<section class=\"pv-profile-section pv-profile-section--reorder-enabled background-section artdeco-container-card artdeco-card ember-view\" id=\"ember145\"><div class=\"pv-profile-section-pager ember-view\" id=\"ember146\"> <section class=\"pv-profile-section experience-section ember-view\" id=\"experience-section\"><header class=\"pv-profile-section__card-header\">\n",
       "<h2 class=\"pv-profile-section__card-heading\">\n",
       "    Experience\n",
       "  </h2>\n",
       "<!-- --></header>\n",
       "<ul class=\"pv-profile-section__section-info section-info pv-profile-section__section-info--has-no-more\">\n",
       "<li class=\"pv-entity__position-group-pager pv-profile-section__list-item ember-view\" id=\"ember149\"> <section class=\"pv-profile-section__card-item-v2 pv-profile-section pv-position-entity ember-view\" id=\"1469116979\"> <div class=\"display-flex justify-space-between full-width\">\n",
       "<div class=\"display-flex flex-column full-width\">\n",
       "<a class=\"full-width ember-view\" data-control-name=\"background_details_company\" href=\"/company/boston-consulting-group/\" id=\"ember151\"> <div class=\"pv-entity__logo company-logo\">\n",
       "<img alt=\"Boston Consulting Group (BCG)\" class=\"pv-entity__logo-img EntityPhoto-square-5 lazy-image ember-view\" id=\"ember153\" loading=\"lazy\" src=\"https://media-exp1.licdn.com/dms/image/C4D0BAQHK8ez9s2k4sg/company-logo_100_100/0?e=1606348800&amp;v=beta&amp;t=6uUKRh7QJPbZMWJTasxIFJ_d6aTnetHy56xXuDaWKi0\"/>\n",
       "</div>\n",
       "<div class=\"pv-entity__summary-info pv-entity__summary-info--background-section\">\n",
       "<h3 class=\"t-16 t-black t-bold\">Summer Associate</h3>\n",
       "<p class=\"visually-hidden\">Company Name</p>\n",
       "<p class=\"pv-entity__secondary-title t-14 t-black t-normal\">\n",
       "      Boston Consulting Group (BCG)\n",
       "<!-- --> </p>\n",
       "<div class=\"display-flex\">\n",
       "<h4 class=\"pv-entity__date-range t-14 t-black--light t-normal\">\n",
       "<span class=\"visually-hidden\">Dates Employed</span>\n",
       "<span>Apr 2019 – May 2019</span>\n",
       "</h4>\n",
       "<h4 class=\"t-14 t-black--light t-normal\">\n",
       "<span class=\"visually-hidden\">Employment Duration</span>\n",
       "<span class=\"pv-entity__bullet-item-v2\">2 mos</span>\n",
       "</h4>\n",
       "</div>\n",
       "<h4 class=\"pv-entity__location t-14 t-black--light t-normal block\">\n",
       "<span class=\"visually-hidden\">Location</span>\n",
       "<span>Mumbai, Maharashtra, India</span>\n",
       "</h4>\n",
       "<!-- -->\n",
       "</div>\n",
       "</a>\n",
       "<!-- --> </div>\n",
       "<!-- --> </div>\n",
       "</section>\n",
       "</li><li class=\"pv-entity__position-group-pager pv-profile-section__list-item ember-view\" id=\"ember156\"> <section class=\"pv-profile-section__card-item-v2 pv-profile-section pv-position-entity ember-view\" id=\"ember157\"> <div class=\"display-flex justify-space-between full-width\">\n",
       "<a class=\"full-width ember-view\" data-control-name=\"background_details_company\" href=\"/company/healthkart/\" id=\"ember158\"> <div class=\"pv-entity__company-details\">\n",
       "<div class=\"pv-entity__logo company-logo\">\n",
       "<img alt=\"HealthKart\" class=\"pv-entity__logo-img EntityPhoto-square-5 lazy-image ember-view\" id=\"ember160\" loading=\"lazy\" src=\"https://media-exp1.licdn.com/dms/image/C510BAQHQt7-sALzbOg/company-logo_100_100/0?e=1606348800&amp;v=beta&amp;t=7EGmM-OQxyD299g5pCFNl6gxjCB5k5wB4LhKZnRg518\"/>\n",
       "</div>\n",
       "<div class=\"pv-entity__company-summary-info\">\n",
       "<h3 class=\"t-16 t-black t-bold\">\n",
       "<span class=\"visually-hidden\">Company Name</span>\n",
       "<span>HealthKart</span>\n",
       "</h3>\n",
       "<h4 class=\"t-14 t-black t-normal\">\n",
       "<span class=\"visually-hidden\">Total Duration</span>\n",
       "<span>1 yr 4 mos</span>\n",
       "</h4>\n",
       "</div>\n",
       "</div>\n",
       "</a>\n",
       "<!-- --> </div>\n",
       "<ul class=\"pv-entity__position-group mt2\">\n",
       "<li class=\"pv-entity__position-group-role-item\">\n",
       "<div class=\"ember-view\" id=\"ember162\"><div class=\"pv-entity__role-details\">\n",
       "<span class=\"pv-entity__timeline-node\"></span>\n",
       "<div class=\"display-flex justify-space-between full-width\">\n",
       "<div class=\"pv-entity__role-container\">\n",
       "<div class=\"pv-entity__role-details-container pv-entity__role-details-container--timeline pv-entity__role-details-container--bottom-margin\">\n",
       "<div class=\"pv-entity__summary-info-v2 pv-entity__summary-info--background-section pv-entity__summary-info-margin-top mb2\">\n",
       "<h3 class=\"t-14 t-black t-bold\">\n",
       "<span class=\"visually-hidden\">Title</span>\n",
       "<span>Ecommerce Manager</span>\n",
       "</h3>\n",
       "<!-- --> <div class=\"display-flex\">\n",
       "<h4 class=\"pv-entity__date-range t-14 t-black--light t-normal\">\n",
       "<span class=\"visually-hidden\">Dates Employed</span>\n",
       "<span>Apr 2018 – May 2018</span>\n",
       "</h4>\n",
       "<h4 class=\"t-14 t-black--light t-normal\">\n",
       "<span class=\"visually-hidden\">Employment Duration</span>\n",
       "<span class=\"pv-entity__bullet-item-v2\">2 mos</span>\n",
       "</h4>\n",
       "</div>\n",
       "<h4 class=\"pv-entity__location t-14 t-black--light t-normal block\">\n",
       "<span class=\"visually-hidden\">Location</span>\n",
       "<span>Gurgaon, India</span>\n",
       "</h4>\n",
       "<!-- --> </div>\n",
       "<div class=\"pv-entity__extra-details t-14 t-black--light ember-view\" id=\"ember163\"><p class=\"pv-entity__description t-14 t-black t-normal inline-show-more-text inline-show-more-text--is-collapsed ember-view\" id=\"ember164\" style=\"line-height:2rem;max-height:8rem;\">- Worked on the campaign Ziddi Hun Mai<br/>- Strategised SEM Campaigns <br/>- Handles P&amp;L\n",
       "\n",
       "<!-- --></p><!-- --></div>\n",
       "</div>\n",
       "</div>\n",
       "<!-- --> </div>\n",
       "</div>\n",
       "</div>\n",
       "</li>\n",
       "<li class=\"pv-entity__position-group-role-item\">\n",
       "<div class=\"ember-view\" id=\"ember166\"><div class=\"pv-entity__role-details\">\n",
       "<span class=\"pv-entity__timeline-node\"></span>\n",
       "<div class=\"display-flex justify-space-between full-width\">\n",
       "<div class=\"pv-entity__role-container\">\n",
       "<div class=\"pv-entity__role-details-container\">\n",
       "<div class=\"pv-entity__summary-info-v2 pv-entity__summary-info--background-section pv-entity__summary-info-margin-top mb2\">\n",
       "<h3 class=\"t-14 t-black t-bold\">\n",
       "<span class=\"visually-hidden\">Title</span>\n",
       "<span>Assistant Manager- Brands (E-commerce Sales)</span>\n",
       "</h3>\n",
       "<!-- --> <div class=\"display-flex\">\n",
       "<h4 class=\"pv-entity__date-range t-14 t-black--light t-normal\">\n",
       "<span class=\"visually-hidden\">Dates Employed</span>\n",
       "<span>Feb 2017 – Mar 2018</span>\n",
       "</h4>\n",
       "<h4 class=\"t-14 t-black--light t-normal\">\n",
       "<span class=\"visually-hidden\">Employment Duration</span>\n",
       "<span class=\"pv-entity__bullet-item-v2\">1 yr 2 mos</span>\n",
       "</h4>\n",
       "</div>\n",
       "<h4 class=\"pv-entity__location t-14 t-black--light t-normal block\">\n",
       "<span class=\"visually-hidden\">Location</span>\n",
       "<span>Gurgaon, Haryana, India</span>\n",
       "</h4>\n",
       "<!-- --> </div>\n",
       "<div class=\"pv-entity__extra-details t-14 t-black--light ember-view\" id=\"ember167\"><p class=\"pv-entity__description t-14 t-black t-normal inline-show-more-text inline-show-more-text--is-collapsed ember-view\" id=\"ember168\" style=\"line-height:2rem;max-height:8rem;\">- Handled HealthKart Brand business on e-commerce channels like Amazon, Flipkart etc. <br/>- Won Amazon Advertising Champion’17, Amazon ACES Consumable’17, Zonal Flipstars for 2017 &amp; 2018.\n",
       "\n",
       "<!-- --></p><!-- --></div>\n",
       "</div>\n",
       "</div>\n",
       "<!-- --> </div>\n",
       "</div>\n",
       "</div>\n",
       "</li>\n",
       "</ul>\n",
       "<!-- --></section>\n",
       "</li><li class=\"pv-entity__position-group-pager pv-profile-section__list-item ember-view\" id=\"ember170\"> <section class=\"pv-profile-section__card-item-v2 pv-profile-section pv-position-entity ember-view\" id=\"818338462\"> <div class=\"display-flex justify-space-between full-width\">\n",
       "<div class=\"display-flex flex-column full-width\">\n",
       "<a class=\"full-width ember-view\" data-control-name=\"background_details_company\" href=\"/company/atlanta-healthcare/\" id=\"ember172\"> <div class=\"pv-entity__logo company-logo\">\n",
       "<img alt=\"Atlanta Healthcare\" class=\"pv-entity__logo-img EntityPhoto-square-5 lazy-image ember-view\" id=\"ember174\" loading=\"lazy\" src=\"https://media-exp1.licdn.com/dms/image/C510BAQHNl-3PYw4tXQ/company-logo_100_100/0?e=1606348800&amp;v=beta&amp;t=_4DS0WK8CGVILfvmGndTS0GM73WoxwL5DPMg6naZoEc\"/>\n",
       "</div>\n",
       "<div class=\"pv-entity__summary-info pv-entity__summary-info--background-section mb2\">\n",
       "<h3 class=\"t-16 t-black t-bold\">Business Analyst</h3>\n",
       "<p class=\"visually-hidden\">Company Name</p>\n",
       "<p class=\"pv-entity__secondary-title t-14 t-black t-normal\">\n",
       "      Atlanta Healthcare\n",
       "<!-- --> </p>\n",
       "<div class=\"display-flex\">\n",
       "<h4 class=\"pv-entity__date-range t-14 t-black--light t-normal\">\n",
       "<span class=\"visually-hidden\">Dates Employed</span>\n",
       "<span>Jun 2016 – Feb 2017</span>\n",
       "</h4>\n",
       "<h4 class=\"t-14 t-black--light t-normal\">\n",
       "<span class=\"visually-hidden\">Employment Duration</span>\n",
       "<span class=\"pv-entity__bullet-item-v2\">9 mos</span>\n",
       "</h4>\n",
       "</div>\n",
       "<h4 class=\"pv-entity__location t-14 t-black--light t-normal block\">\n",
       "<span class=\"visually-hidden\">Location</span>\n",
       "<span>Gurgaon, India</span>\n",
       "</h4>\n",
       "<!-- -->\n",
       "</div>\n",
       "</a>\n",
       "<div class=\"pv-entity__extra-details t-14 t-black--light ember-view\" id=\"ember176\"><p class=\"pv-entity__description t-14 t-black t-normal inline-show-more-text inline-show-more-text--is-collapsed ember-view\" id=\"ember177\" style=\"line-height:2rem;max-height:8rem;\">- Launched multiple Offline Marketing Campaigns to create awareness for air pollution management category &amp; Brand presence<br/>- Organized Media Launch Events for 2 new categories of air quality management solutions<br/>-Lead Ecommerce Sales team for the Brand on channels like Amazon, Flipkart, Snapdeal\n",
       "\n",
       "<!-- --></p><!-- --></div>\n",
       "</div>\n",
       "<!-- --> </div>\n",
       "</section>\n",
       "</li><li class=\"pv-entity__position-group-pager pv-profile-section__list-item ember-view\" id=\"ember179\"> <section class=\"pv-profile-section__card-item-v2 pv-profile-section pv-position-entity ember-view\" id=\"735553128\"> <div class=\"display-flex justify-space-between full-width\">\n",
       "<div class=\"display-flex flex-column full-width\">\n",
       "<a class=\"full-width ember-view\" data-control-name=\"background_details_company\" href=\"/company/larsen-&amp;-toubro-limited/\" id=\"ember181\"> <div class=\"pv-entity__logo company-logo\">\n",
       "<img alt=\"Larsen &amp; Toubro\" class=\"pv-entity__logo-img EntityPhoto-square-5 lazy-image ember-view\" id=\"ember183\" loading=\"lazy\" src=\"https://media-exp1.licdn.com/dms/image/C4D0BAQFnEYpR8MlYsA/company-logo_100_100/0?e=1606348800&amp;v=beta&amp;t=AbxjIyO0-ZJIWTCHq9R1Ch9XY-FQN4lu3s1JuB8O8Y4\"/>\n",
       "</div>\n",
       "<div class=\"pv-entity__summary-info pv-entity__summary-info--background-section\">\n",
       "<h3 class=\"t-16 t-black t-bold\">Summer Internship</h3>\n",
       "<p class=\"visually-hidden\">Company Name</p>\n",
       "<p class=\"pv-entity__secondary-title t-14 t-black t-normal\">\n",
       "      Larsen &amp; Toubro\n",
       "<!-- --> </p>\n",
       "<div class=\"display-flex\">\n",
       "<h4 class=\"pv-entity__date-range t-14 t-black--light t-normal\">\n",
       "<span class=\"visually-hidden\">Dates Employed</span>\n",
       "<span>May 2015 – Jul 2015</span>\n",
       "</h4>\n",
       "<h4 class=\"t-14 t-black--light t-normal\">\n",
       "<span class=\"visually-hidden\">Employment Duration</span>\n",
       "<span class=\"pv-entity__bullet-item-v2\">3 mos</span>\n",
       "</h4>\n",
       "</div>\n",
       "<h4 class=\"pv-entity__location t-14 t-black--light t-normal block\">\n",
       "<span class=\"visually-hidden\">Location</span>\n",
       "<span>New Delhi Area, India</span>\n",
       "</h4>\n",
       "<!-- -->\n",
       "</div>\n",
       "</a>\n",
       "<!-- --> </div>\n",
       "<!-- --> </div>\n",
       "</section>\n",
       "</li><li class=\"pv-entity__position-group-pager pv-profile-section__list-item ember-view\" id=\"ember186\"> <section class=\"pv-profile-section__card-item-v2 pv-profile-section pv-position-entity ember-view\" id=\"735554135\"> <div class=\"display-flex justify-space-between full-width\">\n",
       "<div class=\"display-flex flex-column full-width\">\n",
       "<a class=\"full-width ember-view\" data-control-name=\"background_details_company\" href=\"/company/cortex-construction-solutions-pvt-ltd/\" id=\"ember188\"> <div class=\"pv-entity__logo company-logo\">\n",
       "<img alt=\"Cortex Construction Solutions Pvt Ltd\" class=\"pv-entity__logo-img EntityPhoto-square-5 lazy-image ember-view\" id=\"ember190\" loading=\"lazy\" src=\"https://media-exp1.licdn.com/dms/image/C510BAQHP4YxCduVxxw/company-logo_100_100/0?e=1606348800&amp;v=beta&amp;t=5scGkS_ZeKIIdpwbGfspH7YM1zwZTR2mCKwEP2nltHI\"/>\n",
       "</div>\n",
       "<div class=\"pv-entity__summary-info pv-entity__summary-info--background-section\">\n",
       "<h3 class=\"t-16 t-black t-bold\">Summer Internship</h3>\n",
       "<p class=\"visually-hidden\">Company Name</p>\n",
       "<p class=\"pv-entity__secondary-title t-14 t-black t-normal\">\n",
       "      Cortex Construction Solutions Pvt Ltd\n",
       "<!-- --> </p>\n",
       "<div class=\"display-flex\">\n",
       "<h4 class=\"pv-entity__date-range t-14 t-black--light t-normal\">\n",
       "<span class=\"visually-hidden\">Dates Employed</span>\n",
       "<span>May 2014 – Jun 2014</span>\n",
       "</h4>\n",
       "<h4 class=\"t-14 t-black--light t-normal\">\n",
       "<span class=\"visually-hidden\">Employment Duration</span>\n",
       "<span class=\"pv-entity__bullet-item-v2\">2 mos</span>\n",
       "</h4>\n",
       "</div>\n",
       "<h4 class=\"pv-entity__location t-14 t-black--light t-normal block\">\n",
       "<span class=\"visually-hidden\">Location</span>\n",
       "<span>New Delhi Area, India</span>\n",
       "</h4>\n",
       "<!-- -->\n",
       "</div>\n",
       "</a>\n",
       "<!-- --> </div>\n",
       "<!-- --> </div>\n",
       "</section>\n",
       "</li> </ul>\n",
       "<!-- --></section>\n",
       "</div>\n",
       "<div class=\"pv-profile-section-pager ember-view\" id=\"ember192\"> <section class=\"pv-profile-section education-section ember-view\" id=\"education-section\"><header class=\"pv-profile-section__card-header\">\n",
       "<h2 class=\"pv-profile-section__card-heading\">\n",
       "    Education\n",
       "  </h2>\n",
       "<!-- --></header>\n",
       "<ul class=\"pv-profile-section__section-info section-info pv-profile-section__section-info--has-no-more\">\n",
       "<li class=\"pv-profile-section__list-item pv-education-entity pv-profile-section__card-item ember-view\" id=\"192624293\"><div class=\"display-flex justify-space-between full-width\">\n",
       "<div class=\"display-flex flex-column full-width\">\n",
       "<a class=\"ember-view\" data-control-name=\"background_details_school\" href=\"/school/13497/?legacySchoolId=13497\" id=\"ember196\"> <div class=\"pv-entity__logo\">\n",
       "<img alt=\"Indian Institute of Technology, Delhi\" class=\"pv-entity__logo-img pv-entity__logo-img EntityPhoto-square-4 lazy-image ember-view\" id=\"ember198\" loading=\"lazy\" src=\"https://media-exp1.licdn.com/dms/image/C4E0BAQEtUTK1TcRY4w/company-logo_100_100/0?e=1606348800&amp;v=beta&amp;t=h8OC2ufLqaSzDJcfPCvfd99Vm2XZLoTpSPzYDhP346M\"/>\n",
       "</div>\n",
       "<div class=\"pv-entity__summary-info pv-entity__summary-info--background-section\">\n",
       "<div class=\"pv-entity__degree-info\">\n",
       "<h3 class=\"pv-entity__school-name t-16 t-black t-bold\">Indian Institute of Technology, Delhi</h3>\n",
       "<p class=\"pv-entity__secondary-title pv-entity__degree-name t-14 t-black t-normal\">\n",
       "<span class=\"visually-hidden\">Degree Name</span>\n",
       "<span class=\"pv-entity__comma-item\">Bachelor’s Degree</span>\n",
       "</p>\n",
       "<p class=\"pv-entity__secondary-title pv-entity__fos t-14 t-black t-normal\">\n",
       "<span class=\"visually-hidden\">Field Of Study</span>\n",
       "<span class=\"pv-entity__comma-item\">Civil Engineering +Minor degree in Business Management</span>\n",
       "</p>\n",
       "<!-- --> </div>\n",
       "<p class=\"pv-entity__dates t-14 t-black--light t-normal\">\n",
       "<span class=\"visually-hidden\">Dates attended or expected graduation</span>\n",
       "<span>\n",
       "<time>2012</time> – <time>2016</time>\n",
       "</span>\n",
       "</p>\n",
       "<!-- --></div>\n",
       "</a>\n",
       "<div class=\"pv-entity__extra-details t-14 t-black--light ember-view\" id=\"ember199\"><p class=\"pv-entity__description t-14 t-normal mt4\">\n",
       "  Major in Civil Engineering + Minor Degree in Business Development \n",
       "</p>\n",
       "<!-- --></div>\n",
       "</div>\n",
       "<!-- --></div>\n",
       "</li>\n",
       "<li class=\"pv-profile-section__list-item pv-education-entity pv-profile-section__card-item ember-view\" id=\"545849994\"><div class=\"display-flex justify-space-between full-width\">\n",
       "<div class=\"display-flex flex-column full-width\">\n",
       "<a class=\"ember-view\" data-control-name=\"background_details_school\" href=\"/school/20387/?legacySchoolId=20387\" id=\"ember202\"> <div class=\"pv-entity__logo\">\n",
       "<img alt=\"XLRI Jamshedpur\" class=\"pv-entity__logo-img pv-entity__logo-img EntityPhoto-square-4 lazy-image ember-view\" id=\"ember204\" loading=\"lazy\" src=\"https://media-exp1.licdn.com/dms/image/C510BAQFhaoGI2JBKQw/company-logo_100_100/0?e=1606348800&amp;v=beta&amp;t=vo2-7vAWKgSomwdz2zS-X44qI-1SPTOrpY135t7G1oI\"/>\n",
       "</div>\n",
       "<div class=\"pv-entity__summary-info pv-entity__summary-info--background-section\">\n",
       "<div class=\"pv-entity__degree-info\">\n",
       "<h3 class=\"pv-entity__school-name t-16 t-black t-bold\">XLRI Jamshedpur</h3>\n",
       "<p class=\"pv-entity__secondary-title pv-entity__degree-name t-14 t-black t-normal\">\n",
       "<span class=\"visually-hidden\">Degree Name</span>\n",
       "<span class=\"pv-entity__comma-item\">PGDM</span>\n",
       "</p>\n",
       "<p class=\"pv-entity__secondary-title pv-entity__fos t-14 t-black t-normal\">\n",
       "<span class=\"visually-hidden\">Field Of Study</span>\n",
       "<span class=\"pv-entity__comma-item\">Business Management</span>\n",
       "</p>\n",
       "<!-- --> </div>\n",
       "<p class=\"pv-entity__dates t-14 t-black--light t-normal\">\n",
       "<span class=\"visually-hidden\">Dates attended or expected graduation</span>\n",
       "<span>\n",
       "<time>2018</time> – <time>2020</time>\n",
       "</span>\n",
       "</p>\n",
       "<p class=\"pv-entity__secondary-title t-14 t-black--light t-normal\">\n",
       "<span class=\"activities-label\">Activities and Societies:</span>\n",
       "<span class=\"activities-societies\">Placement Committee (Senior and Junior Year)</span>\n",
       "</p>\n",
       "</div>\n",
       "</a>\n",
       "<!-- --> </div>\n",
       "<!-- --></div>\n",
       "</li>\n",
       "<li class=\"pv-profile-section__list-item pv-education-entity pv-profile-section__card-item ember-view\" id=\"323372782\"><div class=\"display-flex justify-space-between full-width\">\n",
       "<div class=\"display-flex flex-column full-width\">\n",
       "<a class=\"ember-view\" data-control-name=\"background_details_school\" href=\"/search/results/all/?keywords=Modern%20Senior%20Secondary%20School%2C%20Kota\" id=\"ember207\"> <div class=\"pv-entity__logo\">\n",
       "<img alt=\"Modern Senior Secondary School, Kota\" class=\"pv-entity__logo-img pv-entity__logo-img EntityPhoto-square-4 lazy-image ghost-school ember-view\" id=\"ember209\" loading=\"lazy\" src=\"data:image/gif;base64,R0lGODlhAQABAIAAAAAAAP///yH5BAEAAAAALAAAAAABAAEAAAIBRAA7\"/>\n",
       "</div>\n",
       "<div class=\"pv-entity__summary-info pv-entity__summary-info--background-section\">\n",
       "<div class=\"pv-entity__degree-info\">\n",
       "<h3 class=\"pv-entity__school-name t-16 t-black t-bold\">Modern Senior Secondary School, Kota</h3>\n",
       "<!-- --><!-- --><!-- --> </div>\n",
       "<p class=\"pv-entity__dates t-14 t-black--light t-normal\">\n",
       "<span class=\"visually-hidden\">Dates attended or expected graduation</span>\n",
       "<span>\n",
       "<time>1999</time> – <time>2010</time>\n",
       "</span>\n",
       "</p>\n",
       "<!-- --></div>\n",
       "</a>\n",
       "<!-- --> </div>\n",
       "<!-- --></div>\n",
       "</li>\n",
       "</ul>\n",
       "<!-- --></section>\n",
       "</div>\n",
       "<!-- -->\n",
       "<!-- --></section>"
      ]
     },
     "execution_count": 17,
     "metadata": {},
     "output_type": "execute_result"
    }
   ],
   "source": [
    "Exp= soup.find('section',{'class':'pv-profile-section pv-profile-section--reorder-enabled background-section artdeco-container-card artdeco-card ember-view'})\n",
    "#Exp= soup.find('a',{'data-control-name':'background_details_company'})\n",
    "Exp"
   ]
  },
  {
   "cell_type": "code",
   "execution_count": 18,
   "metadata": {},
   "outputs": [],
   "source": [
    "\n",
    "\n",
    "\n",
    "Last_Working_Post=Exp.find('h3',{'class':'t-16 t-black t-bold'}).get_text().strip()\n",
    "Post=Last_Working_Post\n",
    "\n"
   ]
  },
  {
   "cell_type": "code",
   "execution_count": 19,
   "metadata": {},
   "outputs": [],
   "source": [
    "Last_Working_Dates=Exp.find('h4',{'class':'pv-entity__date-range t-14 t-black--light t-normal'})\n",
    "Dates=Last_Working_Dates.get_text().strip()"
   ]
  },
  {
   "cell_type": "code",
   "execution_count": 20,
   "metadata": {},
   "outputs": [],
   "source": [
    "Last_Working_Place=Exp.find('p',{'class':'pv-entity__secondary-title t-14 t-black t-normal'})\n",
    "Place=Last_Working_Place.get_text().strip()"
   ]
  },
  {
   "cell_type": "code",
   "execution_count": 21,
   "metadata": {},
   "outputs": [],
   "source": [
    "Last_Work=[]\n",
    "Last_Work.append(Post)\n",
    "Last_Work.append(Place)\n",
    "Last_Work.append(Dates)"
   ]
  },
  {
   "cell_type": "code",
   "execution_count": 22,
   "metadata": {},
   "outputs": [
    {
     "data": {
      "text/plain": [
       "[['Summer Associate',\n",
       "  'Boston Consulting Group (BCG)',\n",
       "  'Dates Employed\\nApr 2019 – May 2019'],\n",
       " 'XLRI | IIT Delhi | E-commerce',\n",
       " 'Anshul Soni',\n",
       " '500+ connections',\n",
       " 'Delhi, India',\n",
       " 'https://linkedin.com/in/anshul-soni-8064ab84/']"
      ]
     },
     "execution_count": 22,
     "metadata": {},
     "output_type": "execute_result"
    }
   ],
   "source": [
    "info=[]\n",
    "info.append(Last_Work)\n",
    "info.append(Title)\n",
    "info.append(name)\n",
    "info.append(num_conxn)\n",
    "info.append(address)\n",
    "info.append(fullLink)\n",
    "info"
   ]
  },
  {
   "cell_type": "code",
   "execution_count": 23,
   "metadata": {},
   "outputs": [],
   "source": [
    "Education=soup.find('div',{'class':'pv-entity__degree-info'})"
   ]
  },
  {
   "cell_type": "code",
   "execution_count": 24,
   "metadata": {},
   "outputs": [
    {
     "data": {
      "text/plain": [
       "<div class=\"pv-entity__degree-info\">\n",
       "<h3 class=\"pv-entity__school-name t-16 t-black t-bold\">Indian Institute of Technology, Delhi</h3>\n",
       "<p class=\"pv-entity__secondary-title pv-entity__degree-name t-14 t-black t-normal\">\n",
       "<span class=\"visually-hidden\">Degree Name</span>\n",
       "<span class=\"pv-entity__comma-item\">Bachelor’s Degree</span>\n",
       "</p>\n",
       "<p class=\"pv-entity__secondary-title pv-entity__fos t-14 t-black t-normal\">\n",
       "<span class=\"visually-hidden\">Field Of Study</span>\n",
       "<span class=\"pv-entity__comma-item\">Civil Engineering +Minor degree in Business Management</span>\n",
       "</p>\n",
       "<!-- --> </div>"
      ]
     },
     "execution_count": 24,
     "metadata": {},
     "output_type": "execute_result"
    }
   ],
   "source": [
    "Education"
   ]
  },
  {
   "cell_type": "code",
   "execution_count": 25,
   "metadata": {},
   "outputs": [
    {
     "data": {
      "text/plain": [
       "'Indian Institute of Technology, Delhi'"
      ]
     },
     "execution_count": 25,
     "metadata": {},
     "output_type": "execute_result"
    }
   ],
   "source": [
    "Institution=Education.find('h3',{'class':'pv-entity__school-name t-16 t-black t-bold'}).get_text().strip()\n",
    "Institution"
   ]
  },
  {
   "cell_type": "code",
   "execution_count": 26,
   "metadata": {},
   "outputs": [
    {
     "data": {
      "text/plain": [
       "'Bachelor’s Degree'"
      ]
     },
     "execution_count": 26,
     "metadata": {},
     "output_type": "execute_result"
    }
   ],
   "source": [
    "Degree=Education.find('span',{'class':'pv-entity__comma-item'}).get_text().strip()\n",
    "Degree"
   ]
  },
  {
   "cell_type": "code",
   "execution_count": 27,
   "metadata": {},
   "outputs": [
    {
     "data": {
      "text/plain": [
       "'Civil Engineering +Minor degree in Business Management'"
      ]
     },
     "execution_count": 27,
     "metadata": {},
     "output_type": "execute_result"
    }
   ],
   "source": [
    "\n",
    "Branc=Education.find('p',{'class':'pv-entity__secondary-title pv-entity__fos t-14 t-black t-normal'})\n",
    "Branch=Branc.find('span',{'class':'pv-entity__comma-item'}).get_text().strip()\n",
    "Branch\n",
    "\n"
   ]
  },
  {
   "cell_type": "code",
   "execution_count": 28,
   "metadata": {},
   "outputs": [
    {
     "data": {
      "text/plain": [
       "['Indian Institute of Technology, Delhi',\n",
       " 'Bachelor’s Degree',\n",
       " 'Civil Engineering +Minor degree in Business Management']"
      ]
     },
     "execution_count": 28,
     "metadata": {},
     "output_type": "execute_result"
    }
   ],
   "source": [
    "LastEduIns=[]\n",
    "LastEduIns.append(Institution)\n",
    "LastEduIns.append(Degree)\n",
    "LastEduIns.append(Branch)\n",
    "LastEduIns"
   ]
  },
  {
   "cell_type": "code",
   "execution_count": 29,
   "metadata": {},
   "outputs": [
    {
     "data": {
      "text/plain": [
       "[['Summer Associate',\n",
       "  'Boston Consulting Group (BCG)',\n",
       "  'Dates Employed\\nApr 2019 – May 2019'],\n",
       " 'XLRI | IIT Delhi | E-commerce',\n",
       " 'Anshul Soni',\n",
       " '500+ connections',\n",
       " 'Delhi, India',\n",
       " 'https://linkedin.com/in/anshul-soni-8064ab84/',\n",
       " ['Indian Institute of Technology, Delhi',\n",
       "  'Bachelor’s Degree',\n",
       "  'Civil Engineering +Minor degree in Business Management']]"
      ]
     },
     "execution_count": 29,
     "metadata": {},
     "output_type": "execute_result"
    }
   ],
   "source": [
    "info.append(LastEduIns)\n",
    "info"
   ]
  },
  {
   "cell_type": "code",
   "execution_count": null,
   "metadata": {},
   "outputs": [],
   "source": []
  },
  {
   "cell_type": "code",
   "execution_count": null,
   "metadata": {},
   "outputs": [],
   "source": []
  }
 ],
 "metadata": {
  "kernelspec": {
   "display_name": "Python 3",
   "language": "python",
   "name": "python3"
  },
  "language_info": {
   "codemirror_mode": {
    "name": "ipython",
    "version": 3
   },
   "file_extension": ".py",
   "mimetype": "text/x-python",
   "name": "python",
   "nbconvert_exporter": "python",
   "pygments_lexer": "ipython3",
   "version": "3.7.4"
  }
 },
 "nbformat": 4,
 "nbformat_minor": 2
}
